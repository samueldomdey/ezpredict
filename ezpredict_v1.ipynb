{
  "nbformat": 4,
  "nbformat_minor": 0,
  "metadata": {
    "colab": {
      "name": "ezpredict_v1.ipynb",
      "private_outputs": true,
      "provenance": [],
      "authorship_tag": "ABX9TyMElu4YABFJwEuQZshQndBH",
      "include_colab_link": true
    },
    "kernelspec": {
      "name": "python3",
      "display_name": "Python 3"
    },
    "language_info": {
      "name": "python"
    }
  },
  "cells": [
    {
      "cell_type": "markdown",
      "metadata": {
        "id": "view-in-github",
        "colab_type": "text"
      },
      "source": [
        "<a href=\"https://colab.research.google.com/github/samueldomdey/ezpredict/blob/master/ezpredict_v1.ipynb\" target=\"_parent\"><img src=\"https://colab.research.google.com/assets/colab-badge.svg\" alt=\"Open In Colab\"/></a>"
      ]
    },
    {
      "cell_type": "code",
      "metadata": {
        "id": "8Gl0f5XwsP1P"
      },
      "source": [
        "# installs\n",
        "!pip install ezpredict==0.0.5\n",
        "!pip install transformers"
      ],
      "execution_count": null,
      "outputs": []
    },
    {
      "cell_type": "code",
      "metadata": {
        "id": "QcKSKjNasXb8"
      },
      "source": [
        "# imports\n",
        "from ezpredict import predict"
      ],
      "execution_count": null,
      "outputs": []
    },
    {
      "cell_type": "code",
      "metadata": {
        "id": "-qNBoFp6uskn"
      },
      "source": [
        "# perform prediction/s on \"j-hartmann/emotion-english-distilroberta-base\"\n",
        "temp = predict.predict_input(model_name=\"j-hartmann/emotion-english-distilroberta-base\", # model\n",
        "              input=[\"What a beautiful day!\"], # inputs \n",
        "               return_values=True, # return preds in list as tuples\n",
        "                print_values=True) # print preds"
      ],
      "execution_count": null,
      "outputs": []
    },
    {
      "cell_type": "code",
      "metadata": {
        "id": "3E1RSWHCvWCw"
      },
      "source": [
        "# print datastructure\n",
        "print(temp)"
      ],
      "execution_count": null,
      "outputs": []
    }
  ]
}